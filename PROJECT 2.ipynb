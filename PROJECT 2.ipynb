{
 "cells": [
  {
   "cell_type": "markdown",
   "id": "0d1cc448",
   "metadata": {},
   "source": [
    "# Scientific Question: Can the structure of the hydrolyses in the egg whites of turtles, chickens, and turkeys, show the effects of evolution?"
   ]
  },
  {
   "cell_type": "markdown",
   "id": "12071546",
   "metadata": {},
   "source": [
    "The proteins that are being surveyed are hydrolyses in the egg whites of turtles, chickens, and turkeys. Hydrolase is a class of enzyme that commonly perform as biochemical catalysts that use water to break a chemical bond. There are two types of hydrolyses that are being surveyed, lysozyme and ribonuclease. Lysozyme hydrolyses the β-1,4-glycosidic bond between N-acetylmuramic acid and N-acetylglucosamine of peptidoglycan, the structural component of the bacterial cell walls. Ribonucleases catalyze both the in vivo and in vitro degradation of ribonucleic acid (RNA) molecules into smaller components. \n",
    "\n",
    "The structure of these protein can be obtained from the PDB website:\n",
    "- 1TEW: https://www.rcsb.org/structure/1TEW\n",
    "- 6LYZ: https://www.rcsb.org/structure/6LYZ\n",
    "- 2GV0: https://www.rcsb.org/structure/2GV0\n",
    "- 2ZPO: https://www.rcsb.org/structure/2ZPO \n",
    "\n",
    "The WNT gene was discovered to signal the carapace development in turtles. The WNT gene is one of the conserved genes between turtles, chickens, and turkeys. It was also discovered that turtles are closely related to the bird-crocodilian lineage.  WNT genes regulate cell growth, function, differentiation, and cell death, therefore the WNT genes play a central role in bone development, modeling, and remodeling.\n",
    "\n",
    "The structure of these genes can obtained from the NCBI nucleotide database:\n",
    "- Chelonia mydas WNT3A: https://www.ncbi.nlm.nih.gov/nuccore/XM_037891248.2\n",
    "- Chelonia mydas WNT5A: https://www.ncbi.nlm.nih.gov/nuccore/XM_037904882.2\n",
    "- Chelonia mydas WNT8A: https://www.ncbi.nlm.nih.gov/nuccore/XM_007053596.4\n",
    "- Pelodiscus sinensis WNT3A: https://www.ncbi.nlm.nih.gov/nuccore/XM_014576849.2\n",
    "- Pelodiscus sinensis WNT5A: https://www.ncbi.nlm.nih.gov/nuccore/XM_006129743.3\n",
    "- Pelodiscus sinensis WNT8A: https://www.ncbi.nlm.nih.gov/nuccore/XM_014569982.2\n",
    "- Gallus gallus WNT3A: https://www.ncbi.nlm.nih.gov/nuccore/NM_001171601.3\n",
    "- Gallus gallus WNT5A: https://www.ncbi.nlm.nih.gov/nuccore/NM_001396502.1\n",
    "- Gallus gallus WNT8A: https://www.ncbi.nlm.nih.gov/nuccore/NM_205531.2\n",
    "- Meleagris gallopavo WNT3A: https://www.ncbi.nlm.nih.gov/nuccore/XM_019616734.2\n",
    "- Meleagris gallopavo WNT5A: https://www.ncbi.nlm.nih.gov/nuccore/XM_019620083.2\n",
    "- Meleagris gallopavo WNT8A: https://www.ncbi.nlm.nih.gov/nuccore/XM_031555716.1"
   ]
  },
  {
   "cell_type": "markdown",
   "id": "04cb70c6",
   "metadata": {},
   "source": [
    "# Hypothesis: If the protein structure of the hydrolase in the egg whites of turtles, chickens, and turkeys shows the effects of evolution, then there is a conserved region in their protein sequence. "
   ]
  },
  {
   "cell_type": "markdown",
   "id": "4d220d23",
   "metadata": {},
   "source": [
    "To answer the question and hypothese, the WNT genes were downloaded from the NCBI nucleotide database, in fasta format, and the egg white hydrolase proteins were downloaded from the PDB website, in pdb and fasta format. \n",
    "\n",
    "Multiple sequence alignment was the necessary first step, because one cannot go further without knowing the similarities between each sequence. A phylogenetic tree was made with the WNT genes, to ensure that the aligments are correct, and to show how each species diverge. Then the PDB structures of the hydrolase proteins were used to look at the structure and compare. Finally, sequence logo was used to see whether there are conserved regions between these hydrolase protein, that would show the effects of evolution. "
   ]
  },
  {
   "cell_type": "markdown",
   "id": "8ac1f57a",
   "metadata": {},
   "source": [
    "### Packages"
   ]
  },
  {
   "cell_type": "markdown",
   "id": "ef20589a",
   "metadata": {},
   "source": [
    "- MAFFT: A multiple alignment subpackage of Bio.Align, a package used for sequence alignments. It can be used for either nucleotide or amino acid sequences. The file of the query sequence can be any format (fasta, aln, clustal, etc.) To learn more about MAFFT, see: https://biopython.org/docs/1.76/api/Bio.Align.Applications.html\n",
    "- logomaker: A package for generating publication-quality sequence logos. It can generate logos that shows properties of DNA, RNA, or protein sequences. The logos generated can either be the default or it can be customaized to ones' preferences. One of the many ways to customize is by choosing the color scheme. They have a set of color scheme to choose from, but it can also be customized to one's choosing. To learn more about logomaker, see: https://logomaker.readthedocs.io/en/latest/\n",
    "- weblogo: A package for generating sequence logos. Supported file formats include CLUSTALW, FASTA, plain flatfile, MSF, NBRF, PIR, NEXUS and PHYLIP for multiple sequence alignments, and transfac for position weight matrices. Wenlogo can also access online, it is not just a sequence logo package for python. To learn more about weblogo, see: http://weblogo.threeplusone.com/\n",
    "- pandas: A package that is an open source Python package that is most widely used for data science/data analysis and machine learning tasks. It is a package that is built on top of Numpy, which is another package. It can be used to explore, clean, and process data. Pandas uses tabular data. To learn more about pandas, see: https://www.activestate.com/resources/quick-reads/what-is-pandas-in-python-everything-you-need-to-know/\n",
    "- numpy: A package that provided support for multi-dimensional arrays. Numpy stands for Numerical Python. It also has functions for working in domain of linear algebra, fourier transform, and matrices. It supplies an enormous library of high-level mathematical functions that operate on these arrays and matrices. To learn more about numpy, see: https://numpy.org/doc/stable/user/absolute_beginners.html\n",
    "- matplotlib: A package that contains a comprehensive library for creating static, animated, and interactive visualizations in Python. It can be sued to customize visual style and layout. There are also many tools built into the package that can be used for plotting interfaces. To learn more about matplotlib, see: https://matplotlib.org\n",
    "- py3dmol: A package for molecular visualization. The visial library, 3DMol.js is included in the package, therefore it is a convenient package for structural information. There are many features included in the package, such as support for PDB files, SDF files, etc. The molecular style of the 3D structure can also be changed in this package. To learn more about py3Dmol, see: https://www.blopig.com/blog/tag/py3dmol/\n",
    "- nglview: A package used to interactively viw molecular structures and trajectories. To learn more about nglviewer, see: https://academic.oup.com/bioinformatics/article/34/7/1241/4721781"
   ]
  },
  {
   "cell_type": "code",
   "execution_count": 2,
   "id": "fe4e69ad",
   "metadata": {},
   "outputs": [
    {
     "name": "stdout",
     "output_type": "stream",
     "text": [
      "Collecting package metadata (current_repodata.json): done\n",
      "Solving environment: done\n",
      "\n",
      "# All requested packages already installed.\n",
      "\n",
      "\n",
      "Note: you may need to restart the kernel to use updated packages.\n"
     ]
    }
   ],
   "source": [
    "conda install -c bioconda mafft"
   ]
  },
  {
   "cell_type": "code",
   "execution_count": 3,
   "id": "391b3e44",
   "metadata": {
    "scrolled": false
   },
   "outputs": [
    {
     "name": "stdout",
     "output_type": "stream",
     "text": [
      "Collecting package metadata (current_repodata.json): done\n",
      "Solving environment: done\n",
      "\n",
      "# All requested packages already installed.\n",
      "\n",
      "\n",
      "Note: you may need to restart the kernel to use updated packages.\n"
     ]
    }
   ],
   "source": [
    "conda install -c conda-forge py3dmol"
   ]
  },
  {
   "cell_type": "code",
   "execution_count": 4,
   "id": "00460dea",
   "metadata": {
    "scrolled": true
   },
   "outputs": [
    {
     "name": "stdout",
     "output_type": "stream",
     "text": [
      "Requirement already satisfied: logomaker in /opt/anaconda3/lib/python3.9/site-packages (0.8)\n",
      "Requirement already satisfied: pandas in /opt/anaconda3/lib/python3.9/site-packages (from logomaker) (1.3.4)\n",
      "Requirement already satisfied: numpy in /opt/anaconda3/lib/python3.9/site-packages (from logomaker) (1.20.3)\n",
      "Requirement already satisfied: matplotlib in /opt/anaconda3/lib/python3.9/site-packages (from logomaker) (3.4.3)\n",
      "Requirement already satisfied: cycler>=0.10 in /opt/anaconda3/lib/python3.9/site-packages (from matplotlib->logomaker) (0.10.0)\n",
      "Requirement already satisfied: pyparsing>=2.2.1 in /opt/anaconda3/lib/python3.9/site-packages (from matplotlib->logomaker) (3.0.4)\n",
      "Requirement already satisfied: kiwisolver>=1.0.1 in /opt/anaconda3/lib/python3.9/site-packages (from matplotlib->logomaker) (1.3.1)\n",
      "Requirement already satisfied: python-dateutil>=2.7 in /opt/anaconda3/lib/python3.9/site-packages (from matplotlib->logomaker) (2.8.2)\n",
      "Requirement already satisfied: pillow>=6.2.0 in /opt/anaconda3/lib/python3.9/site-packages (from matplotlib->logomaker) (8.4.0)\n",
      "Requirement already satisfied: six in /opt/anaconda3/lib/python3.9/site-packages (from cycler>=0.10->matplotlib->logomaker) (1.16.0)\n",
      "Requirement already satisfied: pytz>=2017.3 in /opt/anaconda3/lib/python3.9/site-packages (from pandas->logomaker) (2021.3)\n",
      "Note: you may need to restart the kernel to use updated packages.\n"
     ]
    }
   ],
   "source": [
    "pip install logomaker"
   ]
  },
  {
   "cell_type": "code",
   "execution_count": 6,
   "id": "24119ba3",
   "metadata": {
    "scrolled": false
   },
   "outputs": [
    {
     "name": "stdout",
     "output_type": "stream",
     "text": [
      "Requirement already satisfied: weblogo in /opt/anaconda3/lib/python3.9/site-packages (3.7.11)\n",
      "Requirement already satisfied: setuptools in /opt/anaconda3/lib/python3.9/site-packages (from weblogo) (58.0.4)\n",
      "Requirement already satisfied: scipy in /opt/anaconda3/lib/python3.9/site-packages (from weblogo) (1.7.1)\n",
      "Requirement already satisfied: numpy in /opt/anaconda3/lib/python3.9/site-packages (from weblogo) (1.20.3)\n",
      "Note: you may need to restart the kernel to use updated packages.\n"
     ]
    }
   ],
   "source": [
    "pip install weblogo"
   ]
  },
  {
   "cell_type": "code",
   "execution_count": 5,
   "id": "867d1f67",
   "metadata": {},
   "outputs": [],
   "source": [
    "from Bio.Align.Applications import MafftCommandline"
   ]
  },
  {
   "cell_type": "code",
   "execution_count": 7,
   "id": "27b984e6",
   "metadata": {},
   "outputs": [
    {
     "data": {
      "application/vnd.jupyter.widget-view+json": {
       "model_id": "8767828322874c2180bec9284e7cfcdd",
       "version_major": 2,
       "version_minor": 0
      },
      "text/plain": []
     },
     "metadata": {},
     "output_type": "display_data"
    }
   ],
   "source": [
    "import Bio\n",
    "from Bio import SeqIO\n",
    "from Bio import Phylo, AlignIO\n",
    "from Bio.Phylo.TreeConstruction import DistanceCalculator, DistanceTreeConstructor\n",
    "import matplotlib\n",
    "import matplotlib.pyplot as plt\n",
    "from Bio.PDB import *\n",
    "import nglview as nv\n",
    "import py3Dmol\n",
    "import weblogo.seq_io.fasta_io\n",
    "import logomaker as lm\n",
    "import numpy as np\n",
    "import pandas as pd\n",
    "import matplotlib.pyplot as plt\n",
    "\n",
    "# displays logos inline within the notebook;\n",
    "# remove if using a python interpreter instead\n",
    "%matplotlib inline"
   ]
  },
  {
   "cell_type": "markdown",
   "id": "02861de9",
   "metadata": {},
   "source": [
    "# Multiple Sequence Alignment"
   ]
  },
  {
   "cell_type": "code",
   "execution_count": 8,
   "id": "9d62a762",
   "metadata": {},
   "outputs": [
    {
     "name": "stdout",
     "output_type": "stream",
     "text": [
      "mafft final_seq.txt\n"
     ]
    }
   ],
   "source": [
    "#loading query nucleotide sequence as the input file for alignment\n",
    "in_file = \"final_seq.txt\"\n",
    "\n",
    "#assign commandline to global variable \n",
    "mafft_cline = MafftCommandline(input=in_file)\n",
    "\n",
    "#ensure that the variable is assigned properly\n",
    "print(mafft_cline)"
   ]
  },
  {
   "cell_type": "code",
   "execution_count": 9,
   "id": "b9336a66",
   "metadata": {},
   "outputs": [],
   "source": [
    "#constuct stdout, and stderr object using Mafftcommandline\n",
    "#stdout = standard output\n",
    "stdout, stderr = mafft_cline()"
   ]
  },
  {
   "cell_type": "code",
   "execution_count": 10,
   "id": "c1298fd3",
   "metadata": {},
   "outputs": [
    {
     "name": "stdout",
     "output_type": "stream",
     "text": [
      "Alignment with 12 rows and 1359 columns\n",
      "--------------------------------------------...taa lcl|PS3A\n",
      "atgggtctcgtctggaagcagctcccaaaatggcccataaagaa...tag lcl|PS5A\n",
      "------------------------------------atgaaga-...taa lcl|PS8A\n",
      "--------------------------------------------...taa lcl|CM3A\n",
      "------------------------------------atggagaa...tag lcl|CM5A\n",
      "------------------------------------atgaaga-...taa lcl|CM8A\n",
      "--------------------------------------------...taa lcl|GG3A\n",
      "------------------------------------atggagaa...tag lcl|GG5A\n",
      "------------------------------------atgaggg-...tag lcl|GG8A\n",
      "--------------------------------------------...taa lcl|MG3A\n",
      "--------------------------------------------...tag lcl|MG5A\n",
      "------------------------------------atgaggg-...tag lcl|MG8A\n"
     ]
    }
   ],
   "source": [
    "#assign a file name for the output aligned sequence (stdout)\n",
    "with open(\"aligned.fasta\", \"w\") as handle:\n",
    "    handle.write(stdout)\n",
    "\n",
    "#parse the output \"aligned.fasta\"\n",
    "align = AlignIO.read(\"aligned.fasta\", \"fasta\")\n",
    "\n",
    "#print the aligned nucleotide sequence\n",
    "print(align)"
   ]
  },
  {
   "cell_type": "markdown",
   "id": "ca9317e7",
   "metadata": {},
   "source": [
    "# Phylogenetic Clustering"
   ]
  },
  {
   "cell_type": "code",
   "execution_count": 11,
   "id": "69c301e3",
   "metadata": {},
   "outputs": [],
   "source": [
    "#read aligned sequences from the file 'aligned.fasta', outputted from the query sequence 'final_seq.txt'\n",
    "aligned = AlignIO.read('aligned.fasta', \"fasta\") "
   ]
  },
  {
   "cell_type": "code",
   "execution_count": 12,
   "id": "9c6f27cf",
   "metadata": {},
   "outputs": [],
   "source": [
    "#construct a Distancecalculator object \n",
    "calculator = DistanceCalculator('identity')\n",
    "\n",
    "#calculate the distance matrix\n",
    "distMatrix = calculator.get_distance(aligned)"
   ]
  },
  {
   "cell_type": "code",
   "execution_count": 31,
   "id": "d43098c2",
   "metadata": {},
   "outputs": [
    {
     "name": "stdout",
     "output_type": "stream",
     "text": [
      "lcl|PS3A\t0\n",
      "lcl|PS5A\t0.48050036791758644\t0\n",
      "lcl|PS8A\t0.48123620309050774\t0.5901398086828551\t0\n",
      "lcl|CM3A\t0.050772626931567366\t0.48565121412803536\t0.49080206033848417\t0\n",
      "lcl|CM5A\t0.45253863134657835\t0.06622516556291391\t0.5665930831493746\t0.45842531272994846\t0\n",
      "lcl|CM8A\t0.4782928623988226\t0.5879323031640913\t0.05150846210448856\t0.48933038999264167\t0.5636497424576894\t0\n",
      "lcl|GG3A\t0.0934510669610007\t0.48050036791758644\t0.48344370860927155\t0.08462104488594557\t0.45180279617365715\t0.47976453274466524\t0\n",
      "lcl|GG5A\t0.47755702722590143\t0.1589403973509934\t0.5974981604120677\t0.48344370860927155\t0.11994113318616628\t0.5952906548933039\t0.48050036791758644\t0\n",
      "lcl|GG8A\t0.4650478292862399\t0.5886681383370125\t0.1574687270051508\t0.4724061810154525\t0.5570272259013981\t0.1589403973509934\t0.47755702722590143\t0.5835172921265637\t0\n",
      "lcl|MG3A\t0.14054451802796175\t0.5003679175864606\t0.4687270051508462\t0.13318616629874913\t0.4738778513612951\t0.4665194996320824\t0.06622516556291391\t0.5011037527593819\t0.4606328182487123\t0\n",
      "lcl|MG5A\t0.4069168506254599\t0.17071376011773365\t0.5423105224429727\t0.4142752023546725\t0.13539367181751283\t0.5393671817512877\t0.4105960264900662\t0.08241353936718177\t0.5298013245033113\t0.4311994113318617\t0\n",
      "lcl|MG8A\t0.4657836644591612\t0.5864606328182487\t0.1537895511405445\t0.4753495217071376\t0.5555555555555556\t0.1596762325239146\t0.4738778513612951\t0.5842531272994849\t0.032376747608535705\t0.45842531272994846\t0.5283296541574687\t0\n",
      "\tlcl|PS3A\tlcl|PS5A\tlcl|PS8A\tlcl|CM3A\tlcl|CM5A\tlcl|CM8A\tlcl|GG3A\tlcl|GG5A\tlcl|GG8A\tlcl|MG3A\tlcl|MG5A\tlcl|MG8A\n"
     ]
    }
   ],
   "source": [
    "#prints out distance matrux results\n",
    "print(distMatrix)"
   ]
  },
  {
   "cell_type": "code",
   "execution_count": 13,
   "id": "70a01e2b",
   "metadata": {},
   "outputs": [],
   "source": [
    "#create a DistanceTreeConstructor object\n",
    "constructor = DistanceTreeConstructor()\n",
    "\n",
    "#constrcut phylogenetic tree using UPGMA\n",
    "#UPGMA is  a simple agglomerative (bottom-up) hierarchical clustering method\n",
    "Tree = constructor.upgma(distMatrix)"
   ]
  },
  {
   "cell_type": "code",
   "execution_count": 14,
   "id": "a66a889f",
   "metadata": {
    "scrolled": true
   },
   "outputs": [
    {
     "data": {
      "image/png": "[encoded data removed]",
      "text/plain": [
       "<Figure size 432x288 with 1 Axes>"
      ]
     },
     "metadata": {
      "needs_background": "light"
     },
     "output_type": "display_data"
    }
   ],
   "source": [
    "#draws the phylogenetic tree\n",
    "Phylo.draw(Tree)"
   ]
  },
  {
   "cell_type": "code",
   "execution_count": 15,
   "id": "66a6e0d4",
   "metadata": {},
   "outputs": [
    {
     "data": {
      "image/png": "[encoded data removed]",
      "text/plain": [
       "<Figure size 864x432 with 1 Axes>"
      ]
     },
     "metadata": {
      "needs_background": "light"
     },
     "output_type": "display_data"
    }
   ],
   "source": [
    "#adjust size of phylogenetic tree\n",
    "\n",
    "#changes font size\n",
    "matplotlib.rc('font', size = 8)\n",
    "\n",
    "#adjust figure size, so that it is bigger\n",
    "plt.figure(figsize = (12,6))\n",
    "\n",
    "#add an axes to the current figure and make it the current axes\n",
    "axes = plt.axes()\n",
    "Phylo.draw(Tree, axes = axes)"
   ]
  },
  {
   "cell_type": "markdown",
   "id": "3e429f8a",
   "metadata": {},
   "source": [
    "# Structural Bioinformatics"
   ]
  },
  {
   "cell_type": "code",
   "execution_count": 16,
   "id": "7eb9bea8",
   "metadata": {},
   "outputs": [],
   "source": [
    "#Parse a PDB file and return as a global variable\n",
    "parser = PDBParser()"
   ]
  },
  {
   "cell_type": "code",
   "execution_count": 29,
   "id": "5592a156",
   "metadata": {},
   "outputs": [
    {
     "data": {
      "application/3dmoljs_load.v0": "<div id=\"3dmolviewer_1654370347611736\"  style=\"position: relative; width: 640px; height: 480px\">\n        <p id=\"3dmolwarning_1654370347611736\" style=\"background-color:#ffcccc;color:black\">You appear to be running in JupyterLab (or JavaScript failed to load for some other reason).  You need to install the 3dmol extension: <br>\n        <tt>jupyter labextension install jupyterlab_3dmol</tt></p>\n        </div>\n<script>\n\nvar loadScriptAsync = function(uri){\n  return new Promise((resolve, reject) => {\n    var tag = document.createElement('script');\n    tag.src = uri;\n    tag.async = true;\n    tag.onload = () => {\n      resolve();\n    };\n  var firstScriptTag = document.getElementsByTagName('script')[0];\n  firstScriptTag.parentNode.insertBefore(tag, firstScriptTag);\n});\n};\n\nif(typeof $3Dmolpromise === 'undefined') {\n$3Dmolpromise = null;\n  $3Dmolpromise = loadScriptAsync('https://3dmol.org/build/3Dmol.js');\n}\n\nvar viewer_1654370347611736 = null;\nvar warn = document.getElementById(\"3dmolwarning_1654370347611736\");\nif(warn) {\n    warn.parentNode.removeChild(warn);\n}\n$3Dmolpromise.then(function() {\nviewer_1654370347611736 = $3Dmol.createViewer($(\"#3dmolviewer_1654370347611736\"),{backgroundColor:\"white\"});\n$3Dmol.download(\"pdb:1TEW\", viewer_1654370347611736, {}, function() {\nviewer_1654370347611736.zoomTo();\n\tviewer_1654370347611736.setStyle({\"cartoon\": {\"color\": \"spectrum\"}});\nviewer_1654370347611736.render();\n})\n});\n</script>",
      "text/html": [
       "<div id=\"3dmolviewer_1654370347611736\"  style=\"position: relative; width: 640px; height: 480px\">\n",
       "        <p id=\"3dmolwarning_1654370347611736\" style=\"background-color:#ffcccc;color:black\">You appear to be running in JupyterLab (or JavaScript failed to load for some other reason).  You need to install the 3dmol extension: <br>\n",
       "        <tt>jupyter labextension install jupyterlab_3dmol</tt></p>\n",
       "        </div>\n",
       "<script>\n",
       "\n",
       "var loadScriptAsync = function(uri){\n",
       "  return new Promise((resolve, reject) => {\n",
       "    var tag = document.createElement('script');\n",
       "    tag.src = uri;\n",
       "    tag.async = true;\n",
       "    tag.onload = () => {\n",
       "      resolve();\n",
       "    };\n",
       "  var firstScriptTag = document.getElementsByTagName('script')[0];\n",
       "  firstScriptTag.parentNode.insertBefore(tag, firstScriptTag);\n",
       "});\n",
       "};\n",
       "\n",
       "if(typeof $3Dmolpromise === 'undefined') {\n",
       "$3Dmolpromise = null;\n",
       "  $3Dmolpromise = loadScriptAsync('https://3dmol.org/build/3Dmol.js');\n",
       "}\n",
       "\n",
       "var viewer_1654370347611736 = null;\n",
       "var warn = document.getElementById(\"3dmolwarning_1654370347611736\");\n",
       "if(warn) {\n",
       "    warn.parentNode.removeChild(warn);\n",
       "}\n",
       "$3Dmolpromise.then(function() {\n",
       "viewer_1654370347611736 = $3Dmol.createViewer($(\"#3dmolviewer_1654370347611736\"),{backgroundColor:\"white\"});\n",
       "$3Dmol.download(\"pdb:1TEW\", viewer_1654370347611736, {}, function() {\n",
       "viewer_1654370347611736.zoomTo();\n",
       "\tviewer_1654370347611736.setStyle({\"cartoon\": {\"color\": \"spectrum\"}});\n",
       "viewer_1654370347611736.render();\n",
       "})\n",
       "});\n",
       "</script>"
      ]
     },
     "metadata": {},
     "output_type": "display_data"
    },
    {
     "data": {
      "text/plain": [
       "<py3Dmol.view at 0x7fb97903ddf0>"
      ]
     },
     "execution_count": 29,
     "metadata": {},
     "output_type": "execute_result"
    }
   ],
   "source": [
    "#STRUCTURE OF HEXAGONAL TURKEY EGG WHITE LYSOZYME AT 1.65 ANGSTROMS RESOLUTION\n",
    "\n",
    "#collects the protein structure of 1TEW from PDB\n",
    "view = py3Dmol.view(query='pdb:1TEW')\n",
    "\n",
    "#sets the style and color scheme of the protein strcuture \n",
    "view.setStyle({'cartoon':{'color':'spectrum'}})\n",
    "\n",
    "#shows the protein strcuture\n",
    "view"
   ]
  },
  {
   "cell_type": "code",
   "execution_count": 18,
   "id": "9931cfee",
   "metadata": {},
   "outputs": [
    {
     "data": {
      "application/3dmoljs_load.v0": "<div id=\"3dmolviewer_1654304312934091\"  style=\"position: relative; width: 640px; height: 480px\">\n        <p id=\"3dmolwarning_1654304312934091\" style=\"background-color:#ffcccc;color:black\">You appear to be running in JupyterLab (or JavaScript failed to load for some other reason).  You need to install the 3dmol extension: <br>\n        <tt>jupyter labextension install jupyterlab_3dmol</tt></p>\n        </div>\n<script>\n\nvar loadScriptAsync = function(uri){\n  return new Promise((resolve, reject) => {\n    var tag = document.createElement('script');\n    tag.src = uri;\n    tag.async = true;\n    tag.onload = () => {\n      resolve();\n    };\n  var firstScriptTag = document.getElementsByTagName('script')[0];\n  firstScriptTag.parentNode.insertBefore(tag, firstScriptTag);\n});\n};\n\nif(typeof $3Dmolpromise === 'undefined') {\n$3Dmolpromise = null;\n  $3Dmolpromise = loadScriptAsync('https://3dmol.org/build/3Dmol.js');\n}\n\nvar viewer_1654304312934091 = null;\nvar warn = document.getElementById(\"3dmolwarning_1654304312934091\");\nif(warn) {\n    warn.parentNode.removeChild(warn);\n}\n$3Dmolpromise.then(function() {\nviewer_1654304312934091 = $3Dmol.createViewer($(\"#3dmolviewer_1654304312934091\"),{backgroundColor:\"white\"});\n$3Dmol.download(\"pdb:6LYZ\", viewer_1654304312934091, {}, function() {\nviewer_1654304312934091.zoomTo();\n\tviewer_1654304312934091.setStyle({\"cartoon\": {\"color\": \"spectrum\"}});\nviewer_1654304312934091.render();\n})\n});\n</script>",
      "text/html": [
       "<div id=\"3dmolviewer_1654304312934091\"  style=\"position: relative; width: 640px; height: 480px\">\n",
       "        <p id=\"3dmolwarning_1654304312934091\" style=\"background-color:#ffcccc;color:black\">You appear to be running in JupyterLab (or JavaScript failed to load for some other reason).  You need to install the 3dmol extension: <br>\n",
       "        <tt>jupyter labextension install jupyterlab_3dmol</tt></p>\n",
       "        </div>\n",
       "<script>\n",
       "\n",
       "var loadScriptAsync = function(uri){\n",
       "  return new Promise((resolve, reject) => {\n",
       "    var tag = document.createElement('script');\n",
       "    tag.src = uri;\n",
       "    tag.async = true;\n",
       "    tag.onload = () => {\n",
       "      resolve();\n",
       "    };\n",
       "  var firstScriptTag = document.getElementsByTagName('script')[0];\n",
       "  firstScriptTag.parentNode.insertBefore(tag, firstScriptTag);\n",
       "});\n",
       "};\n",
       "\n",
       "if(typeof $3Dmolpromise === 'undefined') {\n",
       "$3Dmolpromise = null;\n",
       "  $3Dmolpromise = loadScriptAsync('https://3dmol.org/build/3Dmol.js');\n",
       "}\n",
       "\n",
       "var viewer_1654304312934091 = null;\n",
       "var warn = document.getElementById(\"3dmolwarning_1654304312934091\");\n",
       "if(warn) {\n",
       "    warn.parentNode.removeChild(warn);\n",
       "}\n",
       "$3Dmolpromise.then(function() {\n",
       "viewer_1654304312934091 = $3Dmol.createViewer($(\"#3dmolviewer_1654304312934091\"),{backgroundColor:\"white\"});\n",
       "$3Dmol.download(\"pdb:6LYZ\", viewer_1654304312934091, {}, function() {\n",
       "viewer_1654304312934091.zoomTo();\n",
       "\tviewer_1654304312934091.setStyle({\"cartoon\": {\"color\": \"spectrum\"}});\n",
       "viewer_1654304312934091.render();\n",
       "})\n",
       "});\n",
       "</script>"
      ]
     },
     "metadata": {},
     "output_type": "display_data"
    },
    {
     "data": {
      "text/plain": [
       "<py3Dmol.view at 0x7fb978ea2b50>"
      ]
     },
     "execution_count": 18,
     "metadata": {},
     "output_type": "execute_result"
    }
   ],
   "source": [
    "#Real-space refinement of the structure of hen egg-white lysozyme\n",
    "\n",
    "#collects the protein structure of 6LYZ from PDB\n",
    "view = py3Dmol.view(query='pdb:6LYZ')\n",
    "\n",
    "#sets the style and color scheme of the protein strcuture\n",
    "view.setStyle({'cartoon':{'color':'spectrum'}})\n",
    "\n",
    "#shows the protein strcuture\n",
    "view"
   ]
  },
  {
   "cell_type": "code",
   "execution_count": 19,
   "id": "f337c1c5",
   "metadata": {},
   "outputs": [
    {
     "data": {
      "application/3dmoljs_load.v0": "<div id=\"3dmolviewer_16543043129730701\"  style=\"position: relative; width: 640px; height: 480px\">\n        <p id=\"3dmolwarning_16543043129730701\" style=\"background-color:#ffcccc;color:black\">You appear to be running in JupyterLab (or JavaScript failed to load for some other reason).  You need to install the 3dmol extension: <br>\n        <tt>jupyter labextension install jupyterlab_3dmol</tt></p>\n        </div>\n<script>\n\nvar loadScriptAsync = function(uri){\n  return new Promise((resolve, reject) => {\n    var tag = document.createElement('script');\n    tag.src = uri;\n    tag.async = true;\n    tag.onload = () => {\n      resolve();\n    };\n  var firstScriptTag = document.getElementsByTagName('script')[0];\n  firstScriptTag.parentNode.insertBefore(tag, firstScriptTag);\n});\n};\n\nif(typeof $3Dmolpromise === 'undefined') {\n$3Dmolpromise = null;\n  $3Dmolpromise = loadScriptAsync('https://3dmol.org/build/3Dmol.js');\n}\n\nvar viewer_16543043129730701 = null;\nvar warn = document.getElementById(\"3dmolwarning_16543043129730701\");\nif(warn) {\n    warn.parentNode.removeChild(warn);\n}\n$3Dmolpromise.then(function() {\nviewer_16543043129730701 = $3Dmol.createViewer($(\"#3dmolviewer_16543043129730701\"),{backgroundColor:\"white\"});\n$3Dmol.download(\"pdb:2ZPO\", viewer_16543043129730701, {}, function() {\nviewer_16543043129730701.zoomTo();\n\tviewer_16543043129730701.setStyle({\"cartoon\": {\"color\": \"spectrum\"}});\nviewer_16543043129730701.render();\n})\n});\n</script>",
      "text/html": [
       "<div id=\"3dmolviewer_16543043129730701\"  style=\"position: relative; width: 640px; height: 480px\">\n",
       "        <p id=\"3dmolwarning_16543043129730701\" style=\"background-color:#ffcccc;color:black\">You appear to be running in JupyterLab (or JavaScript failed to load for some other reason).  You need to install the 3dmol extension: <br>\n",
       "        <tt>jupyter labextension install jupyterlab_3dmol</tt></p>\n",
       "        </div>\n",
       "<script>\n",
       "\n",
       "var loadScriptAsync = function(uri){\n",
       "  return new Promise((resolve, reject) => {\n",
       "    var tag = document.createElement('script');\n",
       "    tag.src = uri;\n",
       "    tag.async = true;\n",
       "    tag.onload = () => {\n",
       "      resolve();\n",
       "    };\n",
       "  var firstScriptTag = document.getElementsByTagName('script')[0];\n",
       "  firstScriptTag.parentNode.insertBefore(tag, firstScriptTag);\n",
       "});\n",
       "};\n",
       "\n",
       "if(typeof $3Dmolpromise === 'undefined') {\n",
       "$3Dmolpromise = null;\n",
       "  $3Dmolpromise = loadScriptAsync('https://3dmol.org/build/3Dmol.js');\n",
       "}\n",
       "\n",
       "var viewer_16543043129730701 = null;\n",
       "var warn = document.getElementById(\"3dmolwarning_16543043129730701\");\n",
       "if(warn) {\n",
       "    warn.parentNode.removeChild(warn);\n",
       "}\n",
       "$3Dmolpromise.then(function() {\n",
       "viewer_16543043129730701 = $3Dmol.createViewer($(\"#3dmolviewer_16543043129730701\"),{backgroundColor:\"white\"});\n",
       "$3Dmol.download(\"pdb:2ZPO\", viewer_16543043129730701, {}, function() {\n",
       "viewer_16543043129730701.zoomTo();\n",
       "\tviewer_16543043129730701.setStyle({\"cartoon\": {\"color\": \"spectrum\"}});\n",
       "viewer_16543043129730701.render();\n",
       "})\n",
       "});\n",
       "</script>"
      ]
     },
     "metadata": {},
     "output_type": "display_data"
    },
    {
     "data": {
      "text/plain": [
       "<py3Dmol.view at 0x7fb979028b50>"
      ]
     },
     "execution_count": 19,
     "metadata": {},
     "output_type": "execute_result"
    }
   ],
   "source": [
    "#Crystal Structure of Green Turtle Egg White Ribonuclease\n",
    "\n",
    "#collects the protein structure of 2ZPO from PDB\n",
    "view = py3Dmol.view(query='pdb:2ZPO')\n",
    "\n",
    "#sets the style and color scheme of the protein strcuture \n",
    "view.setStyle({'cartoon':{'color':'spectrum'}})\n",
    "\n",
    "#shows the protein strcuture\n",
    "view"
   ]
  },
  {
   "cell_type": "code",
   "execution_count": 30,
   "id": "fc80fef5",
   "metadata": {
    "scrolled": true
   },
   "outputs": [
    {
     "data": {
      "application/3dmoljs_load.v0": "<div id=\"3dmolviewer_165437056745931\"  style=\"position: relative; width: 640px; height: 480px\">\n        <p id=\"3dmolwarning_165437056745931\" style=\"background-color:#ffcccc;color:black\">You appear to be running in JupyterLab (or JavaScript failed to load for some other reason).  You need to install the 3dmol extension: <br>\n        <tt>jupyter labextension install jupyterlab_3dmol</tt></p>\n        </div>\n<script>\n\nvar loadScriptAsync = function(uri){\n  return new Promise((resolve, reject) => {\n    var tag = document.createElement('script');\n    tag.src = uri;\n    tag.async = true;\n    tag.onload = () => {\n      resolve();\n    };\n  var firstScriptTag = document.getElementsByTagName('script')[0];\n  firstScriptTag.parentNode.insertBefore(tag, firstScriptTag);\n});\n};\n\nif(typeof $3Dmolpromise === 'undefined') {\n$3Dmolpromise = null;\n  $3Dmolpromise = loadScriptAsync('https://3dmol.org/build/3Dmol.js');\n}\n\nvar viewer_165437056745931 = null;\nvar warn = document.getElementById(\"3dmolwarning_165437056745931\");\nif(warn) {\n    warn.parentNode.removeChild(warn);\n}\n$3Dmolpromise.then(function() {\nviewer_165437056745931 = $3Dmol.createViewer($(\"#3dmolviewer_165437056745931\"),{backgroundColor:\"white\"});\n$3Dmol.download(\"pdb:2GV0\", viewer_165437056745931, {}, function() {\nviewer_165437056745931.zoomTo();\n\tviewer_165437056745931.setStyle({\"cartoon\": {\"color\": \"spectrum\"}});\nviewer_165437056745931.render();\n})\n});\n</script>",
      "text/html": [
       "<div id=\"3dmolviewer_165437056745931\"  style=\"position: relative; width: 640px; height: 480px\">\n",
       "        <p id=\"3dmolwarning_165437056745931\" style=\"background-color:#ffcccc;color:black\">You appear to be running in JupyterLab (or JavaScript failed to load for some other reason).  You need to install the 3dmol extension: <br>\n",
       "        <tt>jupyter labextension install jupyterlab_3dmol</tt></p>\n",
       "        </div>\n",
       "<script>\n",
       "\n",
       "var loadScriptAsync = function(uri){\n",
       "  return new Promise((resolve, reject) => {\n",
       "    var tag = document.createElement('script');\n",
       "    tag.src = uri;\n",
       "    tag.async = true;\n",
       "    tag.onload = () => {\n",
       "      resolve();\n",
       "    };\n",
       "  var firstScriptTag = document.getElementsByTagName('script')[0];\n",
       "  firstScriptTag.parentNode.insertBefore(tag, firstScriptTag);\n",
       "});\n",
       "};\n",
       "\n",
       "if(typeof $3Dmolpromise === 'undefined') {\n",
       "$3Dmolpromise = null;\n",
       "  $3Dmolpromise = loadScriptAsync('https://3dmol.org/build/3Dmol.js');\n",
       "}\n",
       "\n",
       "var viewer_165437056745931 = null;\n",
       "var warn = document.getElementById(\"3dmolwarning_165437056745931\");\n",
       "if(warn) {\n",
       "    warn.parentNode.removeChild(warn);\n",
       "}\n",
       "$3Dmolpromise.then(function() {\n",
       "viewer_165437056745931 = $3Dmol.createViewer($(\"#3dmolviewer_165437056745931\"),{backgroundColor:\"white\"});\n",
       "$3Dmol.download(\"pdb:2GV0\", viewer_165437056745931, {}, function() {\n",
       "viewer_165437056745931.zoomTo();\n",
       "\tviewer_165437056745931.setStyle({\"cartoon\": {\"color\": \"spectrum\"}});\n",
       "viewer_165437056745931.render();\n",
       "})\n",
       "});\n",
       "</script>"
      ]
     },
     "metadata": {},
     "output_type": "display_data"
    },
    {
     "data": {
      "text/plain": [
       "<py3Dmol.view at 0x7fb979028370>"
      ]
     },
     "execution_count": 30,
     "metadata": {},
     "output_type": "execute_result"
    }
   ],
   "source": [
    "#The structure of the orthorhombic form of soft-shelled turtle lysozyme at 1.9 angstroms resolution\n",
    "\n",
    "#collects the protein structure of 2GV0 from PDB\n",
    "view = py3Dmol.view(query='pdb:2GV0')\n",
    "\n",
    "#sets the style and color scheme of the protein strcuture \n",
    "view.setStyle({'cartoon':{'color':'spectrum'}})\n",
    "\n",
    "#shows the protein strcuture\n",
    "view"
   ]
  },
  {
   "cell_type": "markdown",
   "id": "579fb2f1",
   "metadata": {},
   "source": [
    "# Sequence Logo"
   ]
  },
  {
   "cell_type": "code",
   "execution_count": 21,
   "id": "1067f995",
   "metadata": {},
   "outputs": [
    {
     "name": "stdout",
     "output_type": "stream",
     "text": [
      "mafft protein_seq.txt\n"
     ]
    }
   ],
   "source": [
    "#loading query protein sequence as the input file for alignment\n",
    "in_file = \"protein_seq.txt\"\n",
    "\n",
    "#assign commandline to global variable \n",
    "mafft_cline_protein = MafftCommandline(input=in_file)\n",
    "\n",
    "#ensure that the variable is assigned properly\n",
    "print(mafft_cline_protein)"
   ]
  },
  {
   "cell_type": "code",
   "execution_count": 22,
   "id": "d5bbcc99",
   "metadata": {},
   "outputs": [],
   "source": [
    "#constuct stdout, and stderr object using Mafftcommandline\n",
    "#stdout = standard output\n",
    "stdout_protein, stderr_protein = mafft_cline_protein()"
   ]
  },
  {
   "cell_type": "code",
   "execution_count": 23,
   "id": "8c17b538",
   "metadata": {
    "scrolled": true
   },
   "outputs": [
    {
     "name": "stdout",
     "output_type": "stream",
     "text": [
      "Alignment with 4 rows and 156 columns\n",
      "-KVYGRCELAAAMKRL----------------GLDNYRGYSLGN...CRL 1TEW_1|Chain\n",
      "-KVFGRCELAAAMKRH----------------GLDNYRGYSLGN...CRL 6LYZ_1|Chain\n",
      "-----ETRYEKFLRQHVDYPRTAAPDTRTYCNQMMQRRGMTLP-...I-- 2ZPO_1|Chain\n",
      "GKIYEQCELAREFKRH----------------GMDGYHGYSLGD...CKL 2GV0_1|Chain\n"
     ]
    }
   ],
   "source": [
    "#assign a file name for the output aligned sequence (stdout)\n",
    "with open(\"protein.fasta\", \"w\") as handle:\n",
    "    handle.write(stdout_protein)\n",
    "\n",
    "#parse the output \"protein.fasta\"\n",
    "align_protein = AlignIO.read(\"protein.fasta\", \"fasta\")\n",
    "\n",
    "#prints the aligned protein sequence\n",
    "print(align_protein)"
   ]
  },
  {
   "cell_type": "code",
   "execution_count": 24,
   "id": "5ec67d27",
   "metadata": {
    "scrolled": true
   },
   "outputs": [
    {
     "name": "stdout",
     "output_type": "stream",
     "text": [
      "['-KVYGRCELAAAMKRL----------------GLDNYRGYSLGNWVCAAKFESNF-NTHATNRNT-DGSTDYGILQINSRWWCNDGRTPGSKNLCNIPCSALLSSDITAS---VNC-----AKKIASGGNGMNAWVAWRNRCKGTDVHAWIRGCRL', '-KVFGRCELAAAMKRH----------------GLDNYRGYSLGNWVCAAKFESNF-NTQATNRNT-DGSTDYGILQINSRWWCNDGRTPGSRNLCNIPCSALLSSDITAS---VNC-----AKKIVSDGNGMNAWVAWRNRCKGTDVQAWIRGCRL', '-----ETRYEKFLRQHVDYPRTAAPDTRTYCNQMMQRRGMTLP--VC--KFTNTFVHASAASITT----------------ICGPGGAPAGGNL----------RDSTASFALTTCRLQGGSQRPPCNYNGGTSTQRIRIACDGGLPVHYDRAI--', 'GKIYEQCELAREFKRH----------------GMDGYHGYSLGDWVCTAKHESNF-NTAATNYNRGDQSTDYGILQINSRWWCNDGKTPKAKNACGIECSELLKADITAA---VNC-----AKRIVRDPNGMGAWVAWTKYCKGKDVSQWIKGCKL']\n"
     ]
    }
   ],
   "source": [
    "#load raw protien sequence file\n",
    "afile = open(\"protein.fasta\")\n",
    "\n",
    "#read a file of sequence data and return a SeqList\n",
    "seqs = weblogo.seq_io.fasta_io.read(afile)\n",
    "\n",
    "#preview sequence\n",
    "print(seqs)"
   ]
  },
  {
   "cell_type": "code",
   "execution_count": 25,
   "id": "6a340fd8",
   "metadata": {},
   "outputs": [],
   "source": [
    "#creates counts matrix\n",
    "ww_counts_df = lm.alignment_to_matrix(sequences=seqs, to_type='counts', characters_to_ignore='.-X')"
   ]
  },
  {
   "cell_type": "code",
   "execution_count": 26,
   "id": "4f300a42",
   "metadata": {
    "scrolled": true
   },
   "outputs": [
    {
     "data": {
      "text/html": [
       "<div>\n",
       "<style scoped>\n",
       "    .dataframe tbody tr th:only-of-type {\n",
       "        vertical-align: middle;\n",
       "    }\n",
       "\n",
       "    .dataframe tbody tr th {\n",
       "        vertical-align: top;\n",
       "    }\n",
       "\n",
       "    .dataframe thead th {\n",
       "        text-align: right;\n",
       "    }\n",
       "</style>\n",
       "<table border=\"1\" class=\"dataframe\">\n",
       "  <thead>\n",
       "    <tr style=\"text-align: right;\">\n",
       "      <th></th>\n",
       "      <th>A</th>\n",
       "      <th>C</th>\n",
       "      <th>D</th>\n",
       "      <th>E</th>\n",
       "      <th>F</th>\n",
       "      <th>G</th>\n",
       "      <th>H</th>\n",
       "      <th>I</th>\n",
       "      <th>K</th>\n",
       "      <th>L</th>\n",
       "      <th>M</th>\n",
       "      <th>N</th>\n",
       "      <th>P</th>\n",
       "      <th>Q</th>\n",
       "      <th>R</th>\n",
       "      <th>S</th>\n",
       "      <th>T</th>\n",
       "      <th>V</th>\n",
       "      <th>W</th>\n",
       "      <th>Y</th>\n",
       "    </tr>\n",
       "    <tr>\n",
       "      <th>pos</th>\n",
       "      <th></th>\n",
       "      <th></th>\n",
       "      <th></th>\n",
       "      <th></th>\n",
       "      <th></th>\n",
       "      <th></th>\n",
       "      <th></th>\n",
       "      <th></th>\n",
       "      <th></th>\n",
       "      <th></th>\n",
       "      <th></th>\n",
       "      <th></th>\n",
       "      <th></th>\n",
       "      <th></th>\n",
       "      <th></th>\n",
       "      <th></th>\n",
       "      <th></th>\n",
       "      <th></th>\n",
       "      <th></th>\n",
       "      <th></th>\n",
       "    </tr>\n",
       "  </thead>\n",
       "  <tbody>\n",
       "    <tr>\n",
       "      <th>0</th>\n",
       "      <td>0.0</td>\n",
       "      <td>0.0</td>\n",
       "      <td>0.0</td>\n",
       "      <td>0.0</td>\n",
       "      <td>0.0</td>\n",
       "      <td>1.0</td>\n",
       "      <td>0.0</td>\n",
       "      <td>0.0</td>\n",
       "      <td>0.0</td>\n",
       "      <td>0.0</td>\n",
       "      <td>0.0</td>\n",
       "      <td>0.0</td>\n",
       "      <td>0.0</td>\n",
       "      <td>0.0</td>\n",
       "      <td>0.0</td>\n",
       "      <td>0.0</td>\n",
       "      <td>0.0</td>\n",
       "      <td>0.0</td>\n",
       "      <td>0.0</td>\n",
       "      <td>0.0</td>\n",
       "    </tr>\n",
       "    <tr>\n",
       "      <th>1</th>\n",
       "      <td>0.0</td>\n",
       "      <td>0.0</td>\n",
       "      <td>0.0</td>\n",
       "      <td>0.0</td>\n",
       "      <td>0.0</td>\n",
       "      <td>0.0</td>\n",
       "      <td>0.0</td>\n",
       "      <td>0.0</td>\n",
       "      <td>3.0</td>\n",
       "      <td>0.0</td>\n",
       "      <td>0.0</td>\n",
       "      <td>0.0</td>\n",
       "      <td>0.0</td>\n",
       "      <td>0.0</td>\n",
       "      <td>0.0</td>\n",
       "      <td>0.0</td>\n",
       "      <td>0.0</td>\n",
       "      <td>0.0</td>\n",
       "      <td>0.0</td>\n",
       "      <td>0.0</td>\n",
       "    </tr>\n",
       "    <tr>\n",
       "      <th>2</th>\n",
       "      <td>0.0</td>\n",
       "      <td>0.0</td>\n",
       "      <td>0.0</td>\n",
       "      <td>0.0</td>\n",
       "      <td>0.0</td>\n",
       "      <td>0.0</td>\n",
       "      <td>0.0</td>\n",
       "      <td>1.0</td>\n",
       "      <td>0.0</td>\n",
       "      <td>0.0</td>\n",
       "      <td>0.0</td>\n",
       "      <td>0.0</td>\n",
       "      <td>0.0</td>\n",
       "      <td>0.0</td>\n",
       "      <td>0.0</td>\n",
       "      <td>0.0</td>\n",
       "      <td>0.0</td>\n",
       "      <td>2.0</td>\n",
       "      <td>0.0</td>\n",
       "      <td>0.0</td>\n",
       "    </tr>\n",
       "    <tr>\n",
       "      <th>3</th>\n",
       "      <td>0.0</td>\n",
       "      <td>0.0</td>\n",
       "      <td>0.0</td>\n",
       "      <td>0.0</td>\n",
       "      <td>1.0</td>\n",
       "      <td>0.0</td>\n",
       "      <td>0.0</td>\n",
       "      <td>0.0</td>\n",
       "      <td>0.0</td>\n",
       "      <td>0.0</td>\n",
       "      <td>0.0</td>\n",
       "      <td>0.0</td>\n",
       "      <td>0.0</td>\n",
       "      <td>0.0</td>\n",
       "      <td>0.0</td>\n",
       "      <td>0.0</td>\n",
       "      <td>0.0</td>\n",
       "      <td>0.0</td>\n",
       "      <td>0.0</td>\n",
       "      <td>2.0</td>\n",
       "    </tr>\n",
       "    <tr>\n",
       "      <th>4</th>\n",
       "      <td>0.0</td>\n",
       "      <td>0.0</td>\n",
       "      <td>0.0</td>\n",
       "      <td>1.0</td>\n",
       "      <td>0.0</td>\n",
       "      <td>2.0</td>\n",
       "      <td>0.0</td>\n",
       "      <td>0.0</td>\n",
       "      <td>0.0</td>\n",
       "      <td>0.0</td>\n",
       "      <td>0.0</td>\n",
       "      <td>0.0</td>\n",
       "      <td>0.0</td>\n",
       "      <td>0.0</td>\n",
       "      <td>0.0</td>\n",
       "      <td>0.0</td>\n",
       "      <td>0.0</td>\n",
       "      <td>0.0</td>\n",
       "      <td>0.0</td>\n",
       "      <td>0.0</td>\n",
       "    </tr>\n",
       "  </tbody>\n",
       "</table>\n",
       "</div>"
      ],
      "text/plain": [
       "       A    C    D    E    F    G    H    I    K    L    M    N    P    Q  \\\n",
       "pos                                                                         \n",
       "0    0.0  0.0  0.0  0.0  0.0  1.0  0.0  0.0  0.0  0.0  0.0  0.0  0.0  0.0   \n",
       "1    0.0  0.0  0.0  0.0  0.0  0.0  0.0  0.0  3.0  0.0  0.0  0.0  0.0  0.0   \n",
       "2    0.0  0.0  0.0  0.0  0.0  0.0  0.0  1.0  0.0  0.0  0.0  0.0  0.0  0.0   \n",
       "3    0.0  0.0  0.0  0.0  1.0  0.0  0.0  0.0  0.0  0.0  0.0  0.0  0.0  0.0   \n",
       "4    0.0  0.0  0.0  1.0  0.0  2.0  0.0  0.0  0.0  0.0  0.0  0.0  0.0  0.0   \n",
       "\n",
       "       R    S    T    V    W    Y  \n",
       "pos                                \n",
       "0    0.0  0.0  0.0  0.0  0.0  0.0  \n",
       "1    0.0  0.0  0.0  0.0  0.0  0.0  \n",
       "2    0.0  0.0  0.0  2.0  0.0  0.0  \n",
       "3    0.0  0.0  0.0  0.0  0.0  2.0  \n",
       "4    0.0  0.0  0.0  0.0  0.0  0.0  "
      ]
     },
     "execution_count": 26,
     "metadata": {},
     "output_type": "execute_result"
    }
   ],
   "source": [
    "#preview counts dataframe, first 5 rows\n",
    "ww_counts_df.head()"
   ]
  },
  {
   "cell_type": "code",
   "execution_count": 27,
   "id": "0a958234",
   "metadata": {},
   "outputs": [
    {
     "data": {
      "text/plain": [
       "<logomaker.src.Logo.Logo at 0x7fb9791eb100>"
      ]
     },
     "execution_count": 27,
     "metadata": {},
     "output_type": "execute_result"
    },
    {
     "data": {
      "image/png": "[encoded data removed]",
      "text/plain": [
       "<Figure size 720x180 with 1 Axes>"
      ]
     },
     "metadata": {
      "needs_background": "light"
     },
     "output_type": "display_data"
    }
   ],
   "source": [
    "#show sequence logo with color scheme \"skylign_protein\"\n",
    "lm.Logo(ww_counts_df, color_scheme='skylign_protein')"
   ]
  },
  {
   "cell_type": "markdown",
   "id": "a0ba4dad",
   "metadata": {},
   "source": [
    "# Analysis of results\n",
    "\n",
    "A sequence logo is a graphical representation of an amino acid or nucleic acid multiple sequence alignment. Each logo consists of stacks of symbols, one stack for each position in the sequence. The overall height of the stack indicates the sequence conservation at that position, while the height of symbols within the stack indicates the relative frequency of each amino or nucleic acid at that position. Highly conserved regions are parts of genes that are similar among the different species. Looking at the ssequence analysis of the egg white hydrolase protein, there seems to be many conserved regions in the amino acid sequence. Conserved proteins undergo fewer amino acid replacements, or are more likely to substitute amino acids with similar biochemical properties. Proteins are important for structure, folding, and binding site, therefore having a highly conserved region shows that that region can function similarly in different species. To answer the question, yes, I believe that the structure of the hydrolyses in the egg whites of turtles, chickens, and turkeys can show the effects of evolution. I also conclude that my hypothesis is correct"
   ]
  }
 ],
 "metadata": {
  "kernelspec": {
   "display_name": "Python 3 (ipykernel)",
   "language": "python",
   "name": "python3"
  },
  "language_info": {
   "codemirror_mode": {
    "name": "ipython",
    "version": 3
   },
   "file_extension": ".py",
   "mimetype": "text/x-python",
   "name": "python",
   "nbconvert_exporter": "python",
   "pygments_lexer": "ipython3",
   "version": "3.9.7"
  }
 },
 "nbformat": 4,
 "nbformat_minor": 5
}
